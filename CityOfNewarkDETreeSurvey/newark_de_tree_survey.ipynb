{
 "cells": [
  {
   "cell_type": "code",
   "execution_count": 32,
   "metadata": {
    "scrolled": true
   },
   "outputs": [
    {
     "name": "stderr",
     "output_type": "stream",
     "text": [
      "Python(84015) MallocStackLogging: can't turn off malloc stack logging because it was not enabled.\n"
     ]
    },
    {
     "name": "stdout",
     "output_type": "stream",
     "text": [
      "Requirement already satisfied: pandas in /Users/sai/venv/lib/python3.13/site-packages (2.3.1)\n",
      "Requirement already satisfied: numpy>=1.26.0 in /Users/sai/venv/lib/python3.13/site-packages (from pandas) (2.3.2)\n",
      "Requirement already satisfied: python-dateutil>=2.8.2 in /Users/sai/venv/lib/python3.13/site-packages (from pandas) (2.9.0.post0)\n",
      "Requirement already satisfied: pytz>=2020.1 in /Users/sai/venv/lib/python3.13/site-packages (from pandas) (2025.2)\n",
      "Requirement already satisfied: tzdata>=2022.7 in /Users/sai/venv/lib/python3.13/site-packages (from pandas) (2025.2)\n",
      "Requirement already satisfied: six>=1.5 in /Users/sai/venv/lib/python3.13/site-packages (from python-dateutil>=2.8.2->pandas) (1.17.0)\n",
      "\n",
      "\u001b[1m[\u001b[0m\u001b[34;49mnotice\u001b[0m\u001b[1;39;49m]\u001b[0m\u001b[39;49m A new release of pip is available: \u001b[0m\u001b[31;49m25.1.1\u001b[0m\u001b[39;49m -> \u001b[0m\u001b[32;49m25.2\u001b[0m\n",
      "\u001b[1m[\u001b[0m\u001b[34;49mnotice\u001b[0m\u001b[1;39;49m]\u001b[0m\u001b[39;49m To update, run: \u001b[0m\u001b[32;49mpip install --upgrade pip\u001b[0m\n",
      "Note: you may need to restart the kernel to use updated packages.\n"
     ]
    },
    {
     "name": "stderr",
     "output_type": "stream",
     "text": [
      "Python(84018) MallocStackLogging: can't turn off malloc stack logging because it was not enabled.\n"
     ]
    },
    {
     "name": "stdout",
     "output_type": "stream",
     "text": [
      "Requirement already satisfied: matplotlib in /Users/sai/venv/lib/python3.13/site-packages (3.10.5)\n",
      "Requirement already satisfied: contourpy>=1.0.1 in /Users/sai/venv/lib/python3.13/site-packages (from matplotlib) (1.3.3)\n",
      "Requirement already satisfied: cycler>=0.10 in /Users/sai/venv/lib/python3.13/site-packages (from matplotlib) (0.12.1)\n",
      "Requirement already satisfied: fonttools>=4.22.0 in /Users/sai/venv/lib/python3.13/site-packages (from matplotlib) (4.59.0)\n",
      "Requirement already satisfied: kiwisolver>=1.3.1 in /Users/sai/venv/lib/python3.13/site-packages (from matplotlib) (1.4.8)\n",
      "Requirement already satisfied: numpy>=1.23 in /Users/sai/venv/lib/python3.13/site-packages (from matplotlib) (2.3.2)\n",
      "Requirement already satisfied: packaging>=20.0 in /Users/sai/venv/lib/python3.13/site-packages (from matplotlib) (25.0)\n",
      "Requirement already satisfied: pillow>=8 in /Users/sai/venv/lib/python3.13/site-packages (from matplotlib) (11.3.0)\n",
      "Requirement already satisfied: pyparsing>=2.3.1 in /Users/sai/venv/lib/python3.13/site-packages (from matplotlib) (3.2.3)\n",
      "Requirement already satisfied: python-dateutil>=2.7 in /Users/sai/venv/lib/python3.13/site-packages (from matplotlib) (2.9.0.post0)\n",
      "Requirement already satisfied: six>=1.5 in /Users/sai/venv/lib/python3.13/site-packages (from python-dateutil>=2.7->matplotlib) (1.17.0)\n",
      "\n",
      "\u001b[1m[\u001b[0m\u001b[34;49mnotice\u001b[0m\u001b[1;39;49m]\u001b[0m\u001b[39;49m A new release of pip is available: \u001b[0m\u001b[31;49m25.1.1\u001b[0m\u001b[39;49m -> \u001b[0m\u001b[32;49m25.2\u001b[0m\n",
      "\u001b[1m[\u001b[0m\u001b[34;49mnotice\u001b[0m\u001b[1;39;49m]\u001b[0m\u001b[39;49m To update, run: \u001b[0m\u001b[32;49mpip install --upgrade pip\u001b[0m\n",
      "Note: you may need to restart the kernel to use updated packages.\n"
     ]
    }
   ],
   "source": [
    "%pip install pandas\n",
    "%pip install matplotlib\n"
   ]
  },
  {
   "cell_type": "code",
   "execution_count": 33,
   "metadata": {},
   "outputs": [],
   "source": [
    "import pandas as pd\n",
    "import numpy as np\n",
    "\n",
    "import matplotlib.pyplot as plt"
   ]
  },
  {
   "cell_type": "markdown",
   "metadata": {},
   "source": [
    "# Read a comma-separated values (csv) file into DataFrame.\n",
    "\n",
    "The data folder contains a file named \"newark_tree_data.csv\". Read this file into a dataframe.\n",
    "\n",
    "\n",
    "resources:\n",
    "* [Pandas read csv docs](https://pandas.pydata.org/pandas-docs/stable/reference/api/pandas.read_csv.html#pandas.read_csv)"
   ]
  },
  {
   "cell_type": "code",
   "execution_count": 34,
   "metadata": {},
   "outputs": [],
   "source": [
    "# Create DataFrame here.\n",
    "df=pd.read_csv('data/newark_tree_data.csv')"
   ]
  },
  {
   "cell_type": "code",
   "execution_count": 35,
   "metadata": {},
   "outputs": [
    {
     "name": "stdout",
     "output_type": "stream",
     "text": [
      "     ID         ON       AREA  ADDRESS       STREET  SITE   SIDE  ASSIGNED  \\\n",
      "0  11.0  Elan Park  Elan Park        2  Blue Hen Rg  11.0  Front     False   \n",
      "1  12.0  Elan Park  Elan Park        2  Blue Hen Rg  12.0  Front     False   \n",
      "2  13.0  Elan Park  Elan Park        2  Blue Hen Rg  13.0  Front     False   \n",
      "3  14.0  Elan Park  Elan Park        2  Blue Hen Rg  14.0  Front     False   \n",
      "4  15.0  Elan Park  Elan Park        2  Blue Hen Rg  15.0  Front     False   \n",
      "5  16.0  Elan Park  Elan Park        2  Blue Hen Rg  16.0  Front     False   \n",
      "6  17.0  Elan Park  Elan Park        2  Blue Hen Rg  17.0  Front     False   \n",
      "7  18.0  Elan Park  Elan Park        2  Blue Hen Rg  18.0  Front     False   \n",
      "8  19.0  Elan Park  Elan Park        2  Blue Hen Rg  19.0  Front     False   \n",
      "9  20.0  Elan Park  Elan Park        2  Blue Hen Rg  20.0  Front     False   \n",
      "\n",
      "                 COMMON               BOTANICAL  ... IMPROPMULC  IMPROPPRUN  \\\n",
      "0   arborvitae, eastern      Thuja occidentalis  ...      False       False   \n",
      "1   arborvitae, eastern      Thuja occidentalis  ...      False       False   \n",
      "2   pine, eastern white           Pinus strobus  ...      False       False   \n",
      "3  whitecedar, Atlantic  Chamaecyparis thyoides  ...      False       False   \n",
      "4  whitecedar, Atlantic  Chamaecyparis thyoides  ...      False       False   \n",
      "5   pine, eastern white           Pinus strobus  ...      False       False   \n",
      "6  whitecedar, Atlantic  Chamaecyparis thyoides  ...      False       False   \n",
      "7   pine, eastern white           Pinus strobus  ...      False       False   \n",
      "8   arborvitae, eastern      Thuja occidentalis  ...      False       False   \n",
      "9   arborvitae, eastern      Thuja occidentalis  ...      False       False   \n",
      "\n",
      "  NUTRIENTD   PEST GIRDLING STRESS  OHUTILITY  TOP_HEIGHT CROWN_M CROWN_DIE  \n",
      "0     False  False    False  False         No          40    0-5%      0-5%  \n",
      "1     False  False    False  False         No          41    0-5%      0-5%  \n",
      "2     False  False     True  False         No          54    0-5%     6-10%  \n",
      "3     False  False     True  False         No          57  11-15%    26-30%  \n",
      "4     False  False     True  False         No          55  11-15%    21-25%  \n",
      "5     False  False     True  False         No          55   6-10%    16-20%  \n",
      "6     False  False     True  False         No          55  21-25%    31-35%  \n",
      "7     False  False     True  False         No          55  11-15%    11-15%  \n",
      "8     False  False    False  False         No          56  11-15%    16-20%  \n",
      "9     False  False     True  False         No          55   6-10%    11-15%  \n",
      "\n",
      "[10 rows x 54 columns]\n"
     ]
    }
   ],
   "source": [
    "# Display the first few rows of the DataFrame here.\n",
    "print(df.head(10))\n"
   ]
  },
  {
   "cell_type": "code",
   "execution_count": 36,
   "metadata": {},
   "outputs": [
    {
     "name": "stdout",
     "output_type": "stream",
     "text": [
      "54\n"
     ]
    }
   ],
   "source": [
    "# How many columns does the DataFrame contain?\n",
    "print(len(df.columns))\n"
   ]
  },
  {
   "cell_type": "code",
   "execution_count": 13,
   "metadata": {},
   "outputs": [
    {
     "name": "stdout",
     "output_type": "stream",
     "text": [
      "Index(['ID', 'ON', 'AREA', 'ADDRESS', 'STREET', 'SITE', 'SIDE', 'ASSIGNED',\n",
      "       'COMMON', 'BOTANICAL', 'CULTIVAR', 'DBH', 'REMOVAL', 'STEMS', 'COND',\n",
      "       'MAINTPRIM', 'OBSERVE', 'INSPECT', 'LOCATION', 'NOTES', 'DATE', 'TIME',\n",
      "       'STAFF', 'XCOORD', 'YCOORD', 'FAILURE', 'LIKELIHOOD', 'TARGET',\n",
      "       'CONSEQ', 'RISK', 'UNIQUEID', 'EDITTIME', 'SPREAD', 'HEIGHT',\n",
      "       'CLEARANCE', 'DECAYCL', 'DECAYT', 'DECAYRF', 'DAMC', 'DAMT', 'DAMRF',\n",
      "       'CAVITYCL', 'CAVITYT', 'CAVITYRF', 'IMPROPMULC', 'IMPROPPRUN',\n",
      "       'NUTRIENTD', 'PEST', 'GIRDLING', 'STRESS', 'OHUTILITY', 'TOP_HEIGHT',\n",
      "       'CROWN_M', 'CROWN_DIE'],\n",
      "      dtype='object')\n"
     ]
    }
   ],
   "source": [
    "# What attributes (columns) does this DataFrame contain?\n",
    "print(df.columns)\n"
   ]
  },
  {
   "cell_type": "markdown",
   "metadata": {},
   "source": [
    "Upon reviewing the columns of the DataFrame, we see that there is already a column named ID that is well suited for an index column.  \n",
    "\n",
    "For the purposes of this lab, we are only going to need a few of the available attributes. The attributes we wish to keep are listed below:\n",
    "* ID\n",
    "* UNIQUEID\n",
    "* COMMON\n",
    "* BOTANICAL\n",
    "* COND\n",
    "* RISK\n",
    "* HEIGHT\n",
    "\n",
    "Let's provide the index_col and the usecols args when we invoke the read_csv method."
   ]
  },
  {
   "cell_type": "code",
   "execution_count": 14,
   "metadata": {},
   "outputs": [],
   "source": [
    "# Create the new DataFrame here.\n",
    "new_df=df[['ID', 'UNIQUEID', 'COMMON', 'BOTANICAL', 'COND', 'RISK', 'HEIGHT']]"
   ]
  },
  {
   "cell_type": "code",
   "execution_count": 15,
   "metadata": {},
   "outputs": [
    {
     "name": "stdout",
     "output_type": "stream",
     "text": [
      "     ID           UNIQUEID                COMMON               BOTANICAL  \\\n",
      "0  11.0  LM 20150929141218   arborvitae, eastern      Thuja occidentalis   \n",
      "1  12.0  LM 20150929141418   arborvitae, eastern      Thuja occidentalis   \n",
      "2  13.0  LM 20150929141844   pine, eastern white           Pinus strobus   \n",
      "3  14.0  LM 20150929142424  whitecedar, Atlantic  Chamaecyparis thyoides   \n",
      "4  15.0  LM 20150929143018  whitecedar, Atlantic  Chamaecyparis thyoides   \n",
      "5  16.0  LM 20150929143352   pine, eastern white           Pinus strobus   \n",
      "6  17.0  LM 20150929143905  whitecedar, Atlantic  Chamaecyparis thyoides   \n",
      "7  18.0  LM 20150929144155   pine, eastern white           Pinus strobus   \n",
      "8  19.0  LM 20150929144438   arborvitae, eastern      Thuja occidentalis   \n",
      "9  20.0  LM 20150929144602   arborvitae, eastern      Thuja occidentalis   \n",
      "\n",
      "        COND RISK  HEIGHT  \n",
      "0       Good  Low      40  \n",
      "1  Very Good  Low      40  \n",
      "2       Good  Low      54  \n",
      "3       Fair  Low      56  \n",
      "4       Fair  Low      55  \n",
      "5       Fair  Low      55  \n",
      "6       Fair  Low      55  \n",
      "7       Fair  Low      55  \n",
      "8       Fair  Low      55  \n",
      "9       Fair  Low      55  \n"
     ]
    }
   ],
   "source": [
    "# Display the first few rows of the new DataFrame here.\n",
    "print(new_df.head(10))\n"
   ]
  },
  {
   "cell_type": "markdown",
   "metadata": {},
   "source": [
    "The data narritive specifies that 4,193 sites were inventoried. Use the DataFrame shape attribute to verify the number of rows."
   ]
  },
  {
   "cell_type": "code",
   "execution_count": 16,
   "metadata": {},
   "outputs": [
    {
     "name": "stdout",
     "output_type": "stream",
     "text": [
      "4193\n"
     ]
    }
   ],
   "source": [
    "# How many rows does your DataFrame contain.\n",
    "print(len(df))\n"
   ]
  },
  {
   "cell_type": "markdown",
   "metadata": {},
   "source": [
    "Let's look at the distribution of data for the HEIGHT attribute."
   ]
  },
  {
   "cell_type": "code",
   "execution_count": 17,
   "metadata": {},
   "outputs": [
    {
     "name": "stdout",
     "output_type": "stream",
     "text": [
      "0\n"
     ]
    }
   ],
   "source": [
    "# What is the min height?\n",
    "print(min(new_df['HEIGHT']))\n"
   ]
  },
  {
   "cell_type": "code",
   "execution_count": 18,
   "metadata": {},
   "outputs": [
    {
     "name": "stdout",
     "output_type": "stream",
     "text": [
      "140\n"
     ]
    }
   ],
   "source": [
    "# What is the max height?\n",
    "print(max(new_df['HEIGHT']))\n"
   ]
  },
  {
   "cell_type": "code",
   "execution_count": 19,
   "metadata": {},
   "outputs": [
    {
     "name": "stdout",
     "output_type": "stream",
     "text": [
      "                ID       HEIGHT\n",
      "count  4193.000000  4193.000000\n",
      "mean   2097.000000    55.311472\n",
      "std    1210.559168    36.293489\n",
      "min       1.000000     0.000000\n",
      "25%    1049.000000    23.000000\n",
      "50%    2097.000000    50.000000\n",
      "75%    3145.000000    86.000000\n",
      "max    4193.000000   140.000000\n"
     ]
    }
   ],
   "source": [
    "# How do we acquire count, mean, standard deviation, and distribution information from the DataFrame \n",
    "# by invoking a single method?\n",
    "print(new_df.describe())\n"
   ]
  },
  {
   "cell_type": "markdown",
   "metadata": {},
   "source": [
    "# Plot a histogram using the HEIGHT attribute. \n",
    "\n",
    "resources:\n",
    "* [Magic commands](https://ipython.readthedocs.io/en/stable/interactive/magics.html)\n",
    "* [Pandas Series Hist](https://pandas.pydata.org/pandas-docs/stable/reference/api/pandas.Series.plot.hist.html#pandas.Series.plot.hist)"
   ]
  },
  {
   "cell_type": "code",
   "execution_count": 20,
   "metadata": {},
   "outputs": [],
   "source": [
    "# Apply magic command to display matplotlib images inline\n",
    "%matplotlib inline\n",
    "import matplotlib.pyplot as plt\n"
   ]
  },
  {
   "cell_type": "code",
   "execution_count": 21,
   "metadata": {
    "scrolled": true
   },
   "outputs": [
    {
     "data": {
      "image/png": "[encoded data removed]",
      "text/plain": [
       "<Figure size 640x480 with 1 Axes>"
      ]
     },
     "metadata": {},
     "output_type": "display_data"
    }
   ],
   "source": [
    "# Create a histogram using the HEIGHT attribute here\n",
    "new_df_hist=new_df['HEIGHT'].hist()\n"
   ]
  },
  {
   "cell_type": "markdown",
   "metadata": {},
   "source": [
    "The data narrative specifies the following:\n",
    "\"A total of 4,193 sites were inventoried, including 4,087 trees, 100 stumps, and 6 vacant planting sites\"\n",
    "\n",
    "Earlier, we were able to validate the total number of entries in the DataFrame. Let's now dig in a bit deeper and validate the stumps and vacant planting sites."
   ]
  },
  {
   "cell_type": "code",
   "execution_count": 22,
   "metadata": {},
   "outputs": [
    {
     "name": "stdout",
     "output_type": "stream",
     "text": [
      "100\n"
     ]
    }
   ],
   "source": [
    "# How many entries are stumps\n",
    "print((new_df['COMMON'] == 'stump').sum())"
   ]
  },
  {
   "cell_type": "code",
   "execution_count": 23,
   "metadata": {},
   "outputs": [
    {
     "name": "stdout",
     "output_type": "stream",
     "text": [
      "6\n"
     ]
    }
   ],
   "source": [
    "# How many entries are vacant sites\n",
    "print((new_df['COMMON'] == 'vacant site, large').sum())"
   ]
  },
  {
   "cell_type": "code",
   "execution_count": 24,
   "metadata": {},
   "outputs": [
    {
     "name": "stdout",
     "output_type": "stream",
     "text": [
      "True\n"
     ]
    }
   ],
   "source": [
    "# Do these number add up?\n",
    "stump_count=(new_df['COMMON'] == 'stump').sum()\n",
    "vacant_count=(new_df['COMMON'] == 'vacant site, large').sum()\n",
    "tree_count=len(new_df)-stump_count-vacant_count\n",
    "print((tree_count+stump_count+vacant_count)==len(new_df))\n"
   ]
  },
  {
   "cell_type": "markdown",
   "metadata": {},
   "source": [
    "# Plot a bar graph using the COND attribute.\n",
    "\n",
    "resources:\n",
    "* [Pandas Series Bar](https://pandas.pydata.org/pandas-docs/stable/reference/api/pandas.Series.plot.bar.html#pandas.Series.plot.bar)"
   ]
  },
  {
   "cell_type": "code",
   "execution_count": 25,
   "metadata": {},
   "outputs": [
    {
     "name": "stdout",
     "output_type": "stream",
     "text": [
      "COND\n",
      "Critical       74\n",
      "Dead          218\n",
      "Excellent     163\n",
      "Fair         1598\n",
      "Good         1168\n",
      "Poor          402\n",
      "Very Good     381\n",
      "Very Poor      83\n",
      "Name: ID, dtype: int64\n"
     ]
    }
   ],
   "source": [
    "# How can we determine all of the possible values describing the condition of a tree and their associated counts?\n",
    "print(df.groupby('COND')['ID'].count())"
   ]
  },
  {
   "cell_type": "code",
   "execution_count": 26,
   "metadata": {},
   "outputs": [
    {
     "name": "stdout",
     "output_type": "stream",
     "text": [
      "COND\n",
      "Dead          218\n",
      "Critical       74\n",
      "Very Poor      83\n",
      "Poor          402\n",
      "Fair         1598\n",
      "Good         1168\n",
      "Very Good     381\n",
      "Excellent     163\n",
      "Name: ID, dtype: int64\n"
     ]
    }
   ],
   "source": [
    "# Were these already in the order you would want them to be in order for a graph to make sense? \n",
    "# If not, reorder  the Series.\n",
    "df_cond=df.groupby('COND')['ID'].count()\n",
    "df_cond=df_cond.reindex(['Dead', 'Critical', 'Very Poor', 'Poor', 'Fair', 'Good', 'Very Good', 'Excellent'])\n",
    "print(df_cond)\n"
   ]
  },
  {
   "cell_type": "code",
   "execution_count": 27,
   "metadata": {},
   "outputs": [
    {
     "data": {
      "image/png": "[encoded data removed]",
      "text/plain": [
       "<Figure size 640x480 with 1 Axes>"
      ]
     },
     "metadata": {},
     "output_type": "display_data"
    }
   ],
   "source": [
    "# Plot the Series here\n",
    "df_cond_bar=df_cond.plot.bar()"
   ]
  },
  {
   "cell_type": "code",
   "execution_count": 28,
   "metadata": {},
   "outputs": [
    {
     "name": "stdout",
     "output_type": "stream",
     "text": [
      "0\n",
      "There are no values missing\n"
     ]
    }
   ],
   "source": [
    "# How many entries have missing values for the COND attribute? Why are these values missing?\n",
    "print(df_cond.isnull().sum())\n",
    "print(\"There are no values missing\")\n"
   ]
  },
  {
   "cell_type": "markdown",
   "metadata": {},
   "source": [
    "# Plot a pie chart using the RISK attribute."
   ]
  },
  {
   "cell_type": "markdown",
   "metadata": {},
   "source": [
    "resources:\n",
    "* [Pandas Series Pie](https://pandas.pydata.org/pandas-docs/stable/reference/api/pandas.Series.plot.pie.html#pandas.Series.plot.pie)\n",
    "* [matplotlib pie chart docs](https://matplotlib.org/api/pyplot_api.html#matplotlib.pyplot.pie)"
   ]
  },
  {
   "cell_type": "code",
   "execution_count": 29,
   "metadata": {},
   "outputs": [
    {
     "name": "stdout",
     "output_type": "stream",
     "text": [
      "RISK\n",
      "Low         3833\n",
      "Moderate     241\n",
      "High          13\n",
      "Name: count, dtype: int64\n"
     ]
    }
   ],
   "source": [
    "# How can we determine all of the possible values describing the RISK associated with each tree\n",
    "# along with the corresponding row counts?\n",
    "risk_count = df['RISK'].value_counts(dropna=False)\n",
    "\n",
    "risk_levels = ['Low', 'Moderate', 'High']\n",
    "risk_data = risk_count[risk_levels]\n",
    "\n",
    "print(risk_data)\n"
   ]
  },
  {
   "cell_type": "code",
   "execution_count": 30,
   "metadata": {},
   "outputs": [],
   "source": [
    "# Create an array containing the colors green, yellow, and orange\n",
    "# When we create our pie chart, the colors should be associated with the attributes according to the specifications below:\n",
    "# Green -> Low\n",
    "# Yellow -> Moderate\n",
    "# Orange -> High\n",
    "\n",
    "colors = ['green', 'yellow', 'orange']\n"
   ]
  },
  {
   "cell_type": "code",
   "execution_count": 31,
   "metadata": {},
   "outputs": [
    {
     "data": {
      "text/plain": [
       "([<matplotlib.patches.Wedge at 0x11829d940>,\n",
       "  <matplotlib.patches.Wedge at 0x1184d9bd0>,\n",
       "  <matplotlib.patches.Wedge at 0x1184d9e50>],\n",
       " [Text(-1.0791002985753164, 0.2134069952336695, 'Low'),\n",
       "  Text(1.0769139348455485, -0.2241793410095543, 'Moderate'),\n",
       "  Text(1.099945083754323, -0.010991484189828173, 'High')])"
      ]
     },
     "execution_count": 31,
     "metadata": {},
     "output_type": "execute_result"
    },
    {
     "data": {
      "image/png": "[encoded data removed]",
      "text/plain": [
       "<Figure size 640x480 with 1 Axes>"
      ]
     },
     "metadata": {},
     "output_type": "display_data"
    }
   ],
   "source": [
    "# Plot the pie chart here\n",
    "\n",
    "plt.pie(risk_data, labels=risk_levels, colors=colors)\n"
   ]
  },
  {
   "cell_type": "code",
   "execution_count": 98,
   "metadata": {},
   "outputs": [
    {
     "name": "stdout",
     "output_type": "stream",
     "text": [
      "106\n",
      "sum of stumps and vacant lots\n"
     ]
    }
   ],
   "source": [
    "# How many entries have missing values for the RISK attribute? Why are these values missing?\n",
    "print(df['RISK'].isnull().sum())\n",
    "print('sum of stumps and vacant lots')\n"
   ]
  },
  {
   "cell_type": "markdown",
   "metadata": {},
   "source": [
    "# Indexing"
   ]
  },
  {
   "cell_type": "code",
   "execution_count": 99,
   "metadata": {},
   "outputs": [
    {
     "name": "stdout",
     "output_type": "stream",
     "text": [
      "ID                            12.0\n",
      "ON                       Elan Park\n",
      "AREA                     Elan Park\n",
      "ADDRESS                          2\n",
      "STREET                 Blue Hen Rg\n",
      "SITE                          12.0\n",
      "SIDE                         Front\n",
      "ASSIGNED                     False\n",
      "COMMON         arborvitae, eastern\n",
      "BOTANICAL       Thuja occidentalis\n",
      "CULTIVAR                       NaN\n",
      "DBH                           11.0\n",
      "REMOVAL                        NaN\n",
      "STEMS                          1.0\n",
      "COND                     Very Good\n",
      "MAINTPRIM                      NaN\n",
      "OBSERVE                        NaN\n",
      "INSPECT                      False\n",
      "LOCATION                      Park\n",
      "NOTES                          NaN\n",
      "DATE                     9/29/2015\n",
      "TIME                    2:14:17 PM\n",
      "STAFF                           LM\n",
      "XCOORD                553196.93222\n",
      "YCOORD                611651.08843\n",
      "FAILURE                 Improbable\n",
      "LIKELIHOOD                Unlikely\n",
      "TARGET                      Medium\n",
      "CONSEQ                 Significant\n",
      "RISK                           Low\n",
      "UNIQUEID         LM 20150929141418\n",
      "EDITTIME      9/29/2015 2:14:18 PM\n",
      "SPREAD                          15\n",
      "HEIGHT                          40\n",
      "CLEARANCE                      NaN\n",
      "DECAYCL                      False\n",
      "DECAYT                       False\n",
      "DECAYRF                      False\n",
      "DAMC                         False\n",
      "DAMT                         False\n",
      "DAMRF                        False\n",
      "CAVITYCL                     False\n",
      "CAVITYT                      False\n",
      "CAVITYRF                     False\n",
      "IMPROPMULC                   False\n",
      "IMPROPPRUN                   False\n",
      "NUTRIENTD                    False\n",
      "PEST                         False\n",
      "GIRDLING                     False\n",
      "STRESS                       False\n",
      "OHUTILITY                       No\n",
      "TOP_HEIGHT                      41\n",
      "CROWN_M                       0-5%\n",
      "CROWN_DIE                     0-5%\n",
      "Name: 1, dtype: object\n"
     ]
    }
   ],
   "source": [
    "# Display row by position 1\n",
    "print(df.iloc[1])\n",
    "\n"
   ]
  },
  {
   "cell_type": "code",
   "execution_count": 100,
   "metadata": {},
   "outputs": [
    {
     "name": "stdout",
     "output_type": "stream",
     "text": [
      "ID                            12.0\n",
      "ON                       Elan Park\n",
      "AREA                     Elan Park\n",
      "ADDRESS                          2\n",
      "STREET                 Blue Hen Rg\n",
      "SITE                          12.0\n",
      "SIDE                         Front\n",
      "ASSIGNED                     False\n",
      "COMMON         arborvitae, eastern\n",
      "BOTANICAL       Thuja occidentalis\n",
      "CULTIVAR                       NaN\n",
      "DBH                           11.0\n",
      "REMOVAL                        NaN\n",
      "STEMS                          1.0\n",
      "COND                     Very Good\n",
      "MAINTPRIM                      NaN\n",
      "OBSERVE                        NaN\n",
      "INSPECT                      False\n",
      "LOCATION                      Park\n",
      "NOTES                          NaN\n",
      "DATE                     9/29/2015\n",
      "TIME                    2:14:17 PM\n",
      "STAFF                           LM\n",
      "XCOORD                553196.93222\n",
      "YCOORD                611651.08843\n",
      "FAILURE                 Improbable\n",
      "LIKELIHOOD                Unlikely\n",
      "TARGET                      Medium\n",
      "CONSEQ                 Significant\n",
      "RISK                           Low\n",
      "UNIQUEID         LM 20150929141418\n",
      "EDITTIME      9/29/2015 2:14:18 PM\n",
      "SPREAD                          15\n",
      "HEIGHT                          40\n",
      "CLEARANCE                      NaN\n",
      "DECAYCL                      False\n",
      "DECAYT                       False\n",
      "DECAYRF                      False\n",
      "DAMC                         False\n",
      "DAMT                         False\n",
      "DAMRF                        False\n",
      "CAVITYCL                     False\n",
      "CAVITYT                      False\n",
      "CAVITYRF                     False\n",
      "IMPROPMULC                   False\n",
      "IMPROPPRUN                   False\n",
      "NUTRIENTD                    False\n",
      "PEST                         False\n",
      "GIRDLING                     False\n",
      "STRESS                       False\n",
      "OHUTILITY                       No\n",
      "TOP_HEIGHT                      41\n",
      "CROWN_M                       0-5%\n",
      "CROWN_DIE                     0-5%\n",
      "Name: 1, dtype: object\n"
     ]
    }
   ],
   "source": [
    "# Display row by label 1\n",
    "print(df.loc[1])\n"
   ]
  },
  {
   "cell_type": "code",
   "execution_count": null,
   "metadata": {},
   "outputs": [],
   "source": []
  }
 ],
 "metadata": {
  "kernelspec": {
   "display_name": "Python 3 (ipykernel)",
   "language": "python",
   "name": "python3"
  },
  "language_info": {
   "codemirror_mode": {
    "name": "ipython",
    "version": 3
   },
   "file_extension": ".py",
   "mimetype": "text/x-python",
   "name": "python",
   "nbconvert_exporter": "python",
   "pygments_lexer": "ipython3",
   "version": "3.13.5"
  }
 },
 "nbformat": 4,
 "nbformat_minor": 4
}
